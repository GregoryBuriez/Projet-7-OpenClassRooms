{
 "cells": [
  {
   "cell_type": "markdown",
   "id": "c07683e0",
   "metadata": {},
   "source": [
    "# Projet 7 : Implémentez un modèle de scoring\n",
    "\n",
    "\n",
    "Vous êtes Data Scientist au sein d'une société financière, nommée \"Prêt à dépenser\", qui propose des crédits à la consommation pour des personnes ayant peu ou pas du tout d'historique de prêt.\n",
    " \n",
    " \n",
    "\n",
    "L’entreprise souhaite mettre en œuvre un outil de “scoring crédit” pour calculer la probabilité qu’un client rembourse son crédit, puis classifie la demande en crédit accordé ou refusé. Elle souhaite donc développer un algorithme de classification en s’appuyant sur des sources de données variées (données comportementales, données provenant d'autres institutions financières, etc.).\n",
    "\n",
    "De plus, les chargés de relation client ont fait remonter le fait que les clients sont de plus en plus demandeurs de transparence vis-à-vis des décisions d’octroi de crédit. Cette demande de transparence des clients va tout à fait dans le sens des valeurs que l’entreprise veut incarner.\n",
    "\n",
    "Prêt à dépenser décide donc de développer un dashboard interactif pour que les chargés de relation client puissent à la fois expliquer de façon la plus transparente possible les décisions d’octroi de crédit, mais également permettre à leurs clients de disposer de leurs informations personnelles et de les explorer facilement. \n",
    "\n",
    "Les données\n",
    "Voici les données dont vous aurez besoin pour réaliser le dashboard. Pour plus de simplicité, vous pouvez les télécharger à cette adresse.\n",
    "\n",
    "Vous aurez sûrement besoin de joindre les différentes tables entre elles.\n",
    "\n",
    "Votre mission : \n",
    "- Construire un modèle de scoring qui donnera une prédiction sur la probabilité de faillite d'un client de façon automatique.\n",
    "- Construire un dashboard interactif à destination des gestionnaires de la relation client permettant d'interpréter les prédictions faites par le modèle, et d’améliorer la connaissance client des chargés de relation client.\n",
    "- Mettre en production le modèle de scoring de prédiction à l’aide d’une API, ainsi que le dashboard interactif qui appelle l’API pour les prédictions.\n",
    "\n",
    "\n",
    "Michaël, votre manager, vous incite à sélectionner un ou des kernels Kaggle pour vous faciliter l’analyse exploratoire, la préparation des données et le feature engineering nécessaires à l’élaboration du modèle de scoring. Si vous le faites, vous devez analyser ce ou ces kernels et le ou les adapterpour vous assurer qu’ils répond(ent) aux besoins de votre mission.\n"
   ]
  },
  {
   "cell_type": "markdown",
   "id": "5af16c09",
   "metadata": {},
   "source": [
    "# "
   ]
  },
  {
   "cell_type": "markdown",
   "id": "0cee015d",
   "metadata": {},
   "source": [
    "## Sommaire\n",
    "\n",
    "### I. Importation\n",
    "#### 1. Importation des bibliothèques\n",
    "#### 2. Importation des fichiers\n",
    "\n",
    "### Modélisation\n",
    "#### 1. Préparation des données\n",
    "#### 2. Entrainement du modèle\n",
    "#### 3. Optimisation du modèle\n",
    "\n",
    "### Conclusion étape KNN"
   ]
  },
  {
   "cell_type": "markdown",
   "id": "51d46eb3",
   "metadata": {},
   "source": [
    "# "
   ]
  },
  {
   "cell_type": "markdown",
   "id": "a0827339",
   "metadata": {},
   "source": [
    "### I. Importation"
   ]
  },
  {
   "cell_type": "markdown",
   "id": "38f6b705",
   "metadata": {},
   "source": [
    "#### 1. Importation des bibliothèques"
   ]
  },
  {
   "cell_type": "code",
   "execution_count": 1,
   "id": "398f87d5",
   "metadata": {},
   "outputs": [],
   "source": [
    "import pandas as pd\n",
    "import numpy as np\n",
    "import matplotlib.pyplot as plt\n",
    "import seaborn as sns\n",
    "\n",
    "import warnings\n",
    "warnings.filterwarnings('ignore')\n",
    "\n",
    "# Preprocessing et standardisation\n",
    "from sklearn.preprocessing import StandardScaler\n",
    "\n",
    "\n",
    "\n",
    "# Séparation du jeu de données\n",
    "from sklearn.model_selection import train_test_split\n",
    "\n",
    "\n",
    "# Importation pour notre modélisation\n",
    "from sklearn.neighbors import KNeighborsClassifier\n",
    "\n",
    "from sklearn.model_selection import cross_val_score\n",
    "from sklearn.model_selection import validation_curve\n",
    "from sklearn.model_selection import GridSearchCV\n",
    "from sklearn.metrics import confusion_matrix, classification_report\n",
    "\n"
   ]
  },
  {
   "cell_type": "markdown",
   "id": "f6f23ea0",
   "metadata": {},
   "source": [
    "# "
   ]
  },
  {
   "cell_type": "markdown",
   "id": "76431a24",
   "metadata": {},
   "source": [
    "#### 2. Importation des fichiers"
   ]
  },
  {
   "cell_type": "code",
   "execution_count": 3,
   "id": "5bbf3aff",
   "metadata": {},
   "outputs": [],
   "source": [
    "# Importation de notre dataframe\n",
    "\n",
    "df = pd.read_csv('df_dash_KNN.csv')\n"
   ]
  },
  {
   "cell_type": "markdown",
   "id": "3d3477e0",
   "metadata": {},
   "source": [
    "# "
   ]
  },
  {
   "cell_type": "markdown",
   "id": "7d8402e4",
   "metadata": {},
   "source": [
    "### II. Modélisation"
   ]
  },
  {
   "cell_type": "markdown",
   "id": "d081ae14",
   "metadata": {},
   "source": [
    "#### 1. Préparation des données"
   ]
  },
  {
   "cell_type": "markdown",
   "id": "c233eb99",
   "metadata": {},
   "source": [
    "###### Séparation des données"
   ]
  },
  {
   "cell_type": "code",
   "execution_count": 5,
   "id": "916442a0",
   "metadata": {},
   "outputs": [
    {
     "data": {
      "text/plain": [
       "'Données entrainements : '"
      ]
     },
     "metadata": {},
     "output_type": "display_data"
    },
    {
     "data": {
      "text/plain": [
       "(70, 162)"
      ]
     },
     "metadata": {},
     "output_type": "display_data"
    },
    {
     "data": {
      "text/plain": [
       "(30, 162)"
      ]
     },
     "metadata": {},
     "output_type": "display_data"
    },
    {
     "data": {
      "text/plain": [
       "'Données de validation'"
      ]
     },
     "metadata": {},
     "output_type": "display_data"
    },
    {
     "data": {
      "text/plain": [
       "(70,)"
      ]
     },
     "metadata": {},
     "output_type": "display_data"
    },
    {
     "data": {
      "text/plain": [
       "(30,)"
      ]
     },
     "metadata": {},
     "output_type": "display_data"
    }
   ],
   "source": [
    "# Création du train_test_split\n",
    "\n",
    "# Séparation des données de la cible\n",
    "X = df.drop('TARGET', axis=1)\n",
    "y = df['TARGET']\n",
    "\n",
    "# Division en train et validation (75/25)\n",
    "X_train, X_test, y_train, y_test = train_test_split(X, y, test_size=0.3, random_state=100)\n",
    "\n",
    "display('Données entrainements : ',X_train.shape, X_test.shape)\n",
    "display('Données de validation',y_train.shape, y_test.shape)"
   ]
  },
  {
   "cell_type": "markdown",
   "id": "b8dc2e2c",
   "metadata": {},
   "source": [
    "###### Standardisation des données"
   ]
  },
  {
   "cell_type": "code",
   "execution_count": 6,
   "id": "50ea72f1",
   "metadata": {},
   "outputs": [],
   "source": [
    "# Créer un objet MinMaxScaler\n",
    "scaler = StandardScaler()\n",
    "\n",
    "# Adapter et transformer les données d'entraînement\n",
    "X_train = scaler.fit_transform(X_train)\n",
    "\n",
    "# Transformer les données de validation\n",
    "X_test = scaler.transform(X_test)"
   ]
  },
  {
   "cell_type": "markdown",
   "id": "5ea4e77b",
   "metadata": {},
   "source": [
    "#### 2.  Modélisation"
   ]
  },
  {
   "cell_type": "code",
   "execution_count": 7,
   "id": "3fd3527c",
   "metadata": {},
   "outputs": [
    {
     "name": "stdout",
     "output_type": "stream",
     "text": [
      "Le taux de prédiction du modèle est de :  0.9\n"
     ]
    }
   ],
   "source": [
    "# Création du modèle\n",
    "model = KNeighborsClassifier()\n",
    "\n",
    "# Entrainement du modèle\n",
    "model.fit(X_train, y_train)\n",
    "print('Le taux de prédiction du modèle est de : ',model.score(X_train, y_train))"
   ]
  },
  {
   "cell_type": "code",
   "execution_count": 8,
   "id": "a7c55fc7",
   "metadata": {},
   "outputs": [
    {
     "name": "stdout",
     "output_type": "stream",
     "text": [
      "La performance du modèle sur X test est :  0.9\n"
     ]
    }
   ],
   "source": [
    "# Prédiction\n",
    "\n",
    "prediction = model.predict(X_test)\n",
    "print ('La performance du modèle sur X test est : ', model.score(X_test, y_test))"
   ]
  },
  {
   "cell_type": "code",
   "execution_count": 9,
   "id": "372e0bb8",
   "metadata": {},
   "outputs": [
    {
     "name": "stdout",
     "output_type": "stream",
     "text": [
      "              precision    recall  f1-score   support\n",
      "\n",
      "           0       0.90      1.00      0.95        27\n",
      "           1       0.00      0.00      0.00         3\n",
      "\n",
      "    accuracy                           0.90        30\n",
      "   macro avg       0.45      0.50      0.47        30\n",
      "weighted avg       0.81      0.90      0.85        30\n",
      "\n"
     ]
    }
   ],
   "source": [
    "# Classification\n",
    "\n",
    "print(classification_report(y_test, prediction))"
   ]
  },
  {
   "cell_type": "code",
   "execution_count": 10,
   "id": "82966c33",
   "metadata": {},
   "outputs": [
    {
     "data": {
      "text/plain": [
       "array([[27,  0],\n",
       "       [ 3,  0]], dtype=int64)"
      ]
     },
     "execution_count": 10,
     "metadata": {},
     "output_type": "execute_result"
    }
   ],
   "source": [
    "# Utilisation de la fonction confusion matrix pour analyser les erreurs\n",
    "\n",
    "confusion_matrix(y_test, model.predict(X_test))"
   ]
  },
  {
   "cell_type": "markdown",
   "id": "12216d34",
   "metadata": {},
   "source": [
    "#### 3. Optimisation"
   ]
  },
  {
   "cell_type": "markdown",
   "id": "8e2567b7",
   "metadata": {},
   "source": [
    "###### Cross Validation"
   ]
  },
  {
   "cell_type": "code",
   "execution_count": 11,
   "id": "8d1e304a",
   "metadata": {},
   "outputs": [
    {
     "data": {
      "text/plain": [
       "0.9"
      ]
     },
     "execution_count": 11,
     "metadata": {},
     "output_type": "execute_result"
    }
   ],
   "source": [
    "cross_val_score(KNeighborsClassifier(), X_train, y_train, cv = 10, scoring = 'accuracy').mean()"
   ]
  },
  {
   "cell_type": "code",
   "execution_count": 12,
   "id": "7c7dac23",
   "metadata": {},
   "outputs": [],
   "source": [
    "score_validation = []\n",
    "for k in range(1,26):\n",
    "    score = cross_val_score(KNeighborsClassifier(k), X_train, y_train, cv = 10, scoring = 'accuracy').mean()\n",
    "    score_validation.append(score)"
   ]
  },
  {
   "cell_type": "code",
   "execution_count": 13,
   "id": "1969a82c",
   "metadata": {},
   "outputs": [
    {
     "data": {
      "text/plain": [
       "[<matplotlib.lines.Line2D at 0x2173479cdc0>]"
      ]
     },
     "execution_count": 13,
     "metadata": {},
     "output_type": "execute_result"
    },
    {
     "data": {
      "image/png": "[encoded data removed]",
      "text/plain": [
       "<Figure size 640x480 with 1 Axes>"
      ]
     },
     "metadata": {},
     "output_type": "display_data"
    }
   ],
   "source": [
    "score_validation\n",
    "plt.plot(score_validation, marker = 'o', color = 'r')"
   ]
  },
  {
   "cell_type": "markdown",
   "id": "ac927b09",
   "metadata": {},
   "source": [
    "Nous constatons une très forte stagnation entre 7 et 20 pour le k. Nous allons tester notre modèle avec une optimisation entre 8 et 10 (qui semble présenter une légère hausse)."
   ]
  },
  {
   "cell_type": "markdown",
   "id": "ab4fa5d1",
   "metadata": {},
   "source": [
    "###### GridSearch CV"
   ]
  },
  {
   "cell_type": "code",
   "execution_count": 14,
   "id": "b750a15f",
   "metadata": {},
   "outputs": [],
   "source": [
    "grid_param = {'n_neighbors':np.arange(8,10),\n",
    "             'weights' : ['uniform', 'distance'],\n",
    "             'metric': ['euclidean', 'manhattan', 'minkowski']}\n",
    "grid = GridSearchCV(KNeighborsClassifier(), grid_param, cv = 5, verbose = 5)"
   ]
  },
  {
   "cell_type": "code",
   "execution_count": 15,
   "id": "12ed8afc",
   "metadata": {},
   "outputs": [
    {
     "name": "stdout",
     "output_type": "stream",
     "text": [
      "Fitting 5 folds for each of 12 candidates, totalling 60 fits\n",
      "[CV 1/5] END metric=euclidean, n_neighbors=8, weights=uniform;, score=0.929 total time=   0.1s\n",
      "[CV 2/5] END metric=euclidean, n_neighbors=8, weights=uniform;, score=0.929 total time=   0.0s\n",
      "[CV 3/5] END metric=euclidean, n_neighbors=8, weights=uniform;, score=0.929 total time=   0.0s\n",
      "[CV 4/5] END metric=euclidean, n_neighbors=8, weights=uniform;, score=0.857 total time=   0.0s\n",
      "[CV 5/5] END metric=euclidean, n_neighbors=8, weights=uniform;, score=0.857 total time=   0.0s\n",
      "[CV 1/5] END metric=euclidean, n_neighbors=8, weights=distance;, score=0.929 total time=   0.0s\n",
      "[CV 2/5] END metric=euclidean, n_neighbors=8, weights=distance;, score=0.929 total time=   0.0s\n",
      "[CV 3/5] END metric=euclidean, n_neighbors=8, weights=distance;, score=0.929 total time=   0.0s\n",
      "[CV 4/5] END metric=euclidean, n_neighbors=8, weights=distance;, score=0.857 total time=   0.0s\n",
      "[CV 5/5] END metric=euclidean, n_neighbors=8, weights=distance;, score=0.857 total time=   0.0s\n",
      "[CV 1/5] END metric=euclidean, n_neighbors=9, weights=uniform;, score=0.929 total time=   0.0s\n",
      "[CV 2/5] END metric=euclidean, n_neighbors=9, weights=uniform;, score=0.929 total time=   0.1s\n",
      "[CV 3/5] END metric=euclidean, n_neighbors=9, weights=uniform;, score=0.929 total time=   0.0s\n",
      "[CV 4/5] END metric=euclidean, n_neighbors=9, weights=uniform;, score=0.857 total time=   0.0s\n",
      "[CV 5/5] END metric=euclidean, n_neighbors=9, weights=uniform;, score=0.857 total time=   0.0s\n",
      "[CV 1/5] END metric=euclidean, n_neighbors=9, weights=distance;, score=0.929 total time=   0.1s\n",
      "[CV 2/5] END metric=euclidean, n_neighbors=9, weights=distance;, score=0.929 total time=   0.0s\n",
      "[CV 3/5] END metric=euclidean, n_neighbors=9, weights=distance;, score=0.929 total time=   0.0s\n",
      "[CV 4/5] END metric=euclidean, n_neighbors=9, weights=distance;, score=0.857 total time=   0.0s\n",
      "[CV 5/5] END metric=euclidean, n_neighbors=9, weights=distance;, score=0.857 total time=   0.0s\n",
      "[CV 1/5] END metric=manhattan, n_neighbors=8, weights=uniform;, score=0.929 total time=   0.0s\n",
      "[CV 2/5] END metric=manhattan, n_neighbors=8, weights=uniform;, score=0.929 total time=   0.0s\n",
      "[CV 3/5] END metric=manhattan, n_neighbors=8, weights=uniform;, score=0.929 total time=   0.0s\n",
      "[CV 4/5] END metric=manhattan, n_neighbors=8, weights=uniform;, score=0.857 total time=   0.0s\n",
      "[CV 5/5] END metric=manhattan, n_neighbors=8, weights=uniform;, score=0.857 total time=   0.0s\n",
      "[CV 1/5] END metric=manhattan, n_neighbors=8, weights=distance;, score=0.929 total time=   0.0s\n",
      "[CV 2/5] END metric=manhattan, n_neighbors=8, weights=distance;, score=0.929 total time=   0.0s\n",
      "[CV 3/5] END metric=manhattan, n_neighbors=8, weights=distance;, score=0.929 total time=   0.0s\n",
      "[CV 4/5] END metric=manhattan, n_neighbors=8, weights=distance;, score=0.857 total time=   0.0s\n",
      "[CV 5/5] END metric=manhattan, n_neighbors=8, weights=distance;, score=0.857 total time=   0.0s\n",
      "[CV 1/5] END metric=manhattan, n_neighbors=9, weights=uniform;, score=0.929 total time=   0.0s\n",
      "[CV 2/5] END metric=manhattan, n_neighbors=9, weights=uniform;, score=0.929 total time=   0.0s\n",
      "[CV 3/5] END metric=manhattan, n_neighbors=9, weights=uniform;, score=0.929 total time=   0.0s\n",
      "[CV 4/5] END metric=manhattan, n_neighbors=9, weights=uniform;, score=0.857 total time=   0.0s\n",
      "[CV 5/5] END metric=manhattan, n_neighbors=9, weights=uniform;, score=0.857 total time=   0.0s\n",
      "[CV 1/5] END metric=manhattan, n_neighbors=9, weights=distance;, score=0.929 total time=   0.0s\n",
      "[CV 2/5] END metric=manhattan, n_neighbors=9, weights=distance;, score=0.929 total time=   0.0s\n",
      "[CV 3/5] END metric=manhattan, n_neighbors=9, weights=distance;, score=0.929 total time=   0.0s\n",
      "[CV 4/5] END metric=manhattan, n_neighbors=9, weights=distance;, score=0.857 total time=   0.0s\n",
      "[CV 5/5] END metric=manhattan, n_neighbors=9, weights=distance;, score=0.857 total time=   0.0s\n",
      "[CV 1/5] END metric=minkowski, n_neighbors=8, weights=uniform;, score=0.929 total time=   0.0s\n",
      "[CV 2/5] END metric=minkowski, n_neighbors=8, weights=uniform;, score=0.929 total time=   0.0s\n",
      "[CV 3/5] END metric=minkowski, n_neighbors=8, weights=uniform;, score=0.929 total time=   0.0s\n",
      "[CV 4/5] END metric=minkowski, n_neighbors=8, weights=uniform;, score=0.857 total time=   0.0s\n",
      "[CV 5/5] END metric=minkowski, n_neighbors=8, weights=uniform;, score=0.857 total time=   0.0s\n",
      "[CV 1/5] END metric=minkowski, n_neighbors=8, weights=distance;, score=0.929 total time=   0.0s\n",
      "[CV 2/5] END metric=minkowski, n_neighbors=8, weights=distance;, score=0.929 total time=   0.0s\n",
      "[CV 3/5] END metric=minkowski, n_neighbors=8, weights=distance;, score=0.929 total time=   0.0s\n",
      "[CV 4/5] END metric=minkowski, n_neighbors=8, weights=distance;, score=0.857 total time=   0.0s\n",
      "[CV 5/5] END metric=minkowski, n_neighbors=8, weights=distance;, score=0.857 total time=   0.0s\n",
      "[CV 1/5] END metric=minkowski, n_neighbors=9, weights=uniform;, score=0.929 total time=   0.0s\n",
      "[CV 2/5] END metric=minkowski, n_neighbors=9, weights=uniform;, score=0.929 total time=   0.0s\n",
      "[CV 3/5] END metric=minkowski, n_neighbors=9, weights=uniform;, score=0.929 total time=   0.0s\n",
      "[CV 4/5] END metric=minkowski, n_neighbors=9, weights=uniform;, score=0.857 total time=   0.0s\n",
      "[CV 5/5] END metric=minkowski, n_neighbors=9, weights=uniform;, score=0.857 total time=   0.0s\n",
      "[CV 1/5] END metric=minkowski, n_neighbors=9, weights=distance;, score=0.929 total time=   0.0s\n",
      "[CV 2/5] END metric=minkowski, n_neighbors=9, weights=distance;, score=0.929 total time=   0.0s\n",
      "[CV 3/5] END metric=minkowski, n_neighbors=9, weights=distance;, score=0.929 total time=   0.0s\n",
      "[CV 4/5] END metric=minkowski, n_neighbors=9, weights=distance;, score=0.857 total time=   0.0s\n",
      "[CV 5/5] END metric=minkowski, n_neighbors=9, weights=distance;, score=0.857 total time=   0.0s\n",
      "Le meilleur score avec les hyperparamètres est de :  0.9\n",
      "Les meilleurs hyperparamètres sont :  {'metric': 'euclidean', 'n_neighbors': 8, 'weights': 'uniform'}\n"
     ]
    }
   ],
   "source": [
    "# ici, on entraine la fonction\n",
    "grid.fit(X_train, y_train)\n",
    "\n",
    "# Obtenir le meilleur score selon nos choix d'hyperparamètres\n",
    "print('Le meilleur score avec les hyperparamètres est de : ',grid.best_score_)\n",
    "\n",
    "# Connaître les meilleurs paramètres\n",
    "print('Les meilleurs hyperparamètres sont : ',grid.best_params_)"
   ]
  },
  {
   "cell_type": "code",
   "execution_count": 16,
   "id": "d1ad82d9",
   "metadata": {},
   "outputs": [
    {
     "name": "stdout",
     "output_type": "stream",
     "text": [
      "Le taux de prédiction du modèle est de :  0.9\n"
     ]
    }
   ],
   "source": [
    "# Création du modèle final avec les hyperparamètres\n",
    "model_final = KNeighborsClassifier(metric='euclidean', n_neighbors=8, weights='uniform')\n",
    "model_final.fit(X_train, y_train)\n",
    "\n",
    "# Évaluation du modèle\n",
    "print('Le taux de prédiction du modèle est de : ', model_final.score(X_train, y_train))"
   ]
  },
  {
   "cell_type": "markdown",
   "id": "f867e7c2",
   "metadata": {},
   "source": [
    "###### Enregistrement du modèle optimisé"
   ]
  },
  {
   "cell_type": "code",
   "execution_count": 17,
   "id": "2f992e0d",
   "metadata": {},
   "outputs": [],
   "source": [
    "import pickle\n",
    "\n",
    "# Sauvegarde du modèle\n",
    "with open('model_KNN_streamlit.pkl', 'wb') as file:\n",
    "    pickle.dump(model_final, file)"
   ]
  },
  {
   "cell_type": "code",
   "execution_count": 20,
   "id": "f368dc17",
   "metadata": {},
   "outputs": [
    {
     "data": {
      "text/html": [
       "<div>\n",
       "<style scoped>\n",
       "    .dataframe tbody tr th:only-of-type {\n",
       "        vertical-align: middle;\n",
       "    }\n",
       "\n",
       "    .dataframe tbody tr th {\n",
       "        vertical-align: top;\n",
       "    }\n",
       "\n",
       "    .dataframe thead th {\n",
       "        text-align: right;\n",
       "    }\n",
       "</style>\n",
       "<table border=\"1\" class=\"dataframe\">\n",
       "  <thead>\n",
       "    <tr style=\"text-align: right;\">\n",
       "      <th></th>\n",
       "      <th>TARGET</th>\n",
       "      <th>SK_ID_CURR</th>\n",
       "      <th>POS_SK_DPD_DEF_SUM</th>\n",
       "      <th>CC_DRAWING_LIMIT_RATIO_MAX</th>\n",
       "      <th>INSTAL_PAYMENT_RATIO_MEAN</th>\n",
       "      <th>POS_REMAINING_INSTALMENTS</th>\n",
       "      <th>CC_LAST_AMT_BALANCE_MEAN</th>\n",
       "      <th>CC_PAYMENT_DIV_MIN_MIN</th>\n",
       "      <th>CC_LATE_PAYMENT_VAR</th>\n",
       "      <th>NEW_DOC_KURT</th>\n",
       "      <th>...</th>\n",
       "      <th>NONLIVINGAREA_MODE</th>\n",
       "      <th>Revenus annuels</th>\n",
       "      <th>BURO_CREDIT_TYPE_Mortgage_MEAN</th>\n",
       "      <th>APPROVED_CNT_PAYMENT_MEAN</th>\n",
       "      <th>FLAG_DOCUMENT_7</th>\n",
       "      <th>FLAG_DOCUMENT_18</th>\n",
       "      <th>ACTIVE_AMT_CREDIT_MAX_OVERDUE_MEAN</th>\n",
       "      <th>ORGANIZATION_TYPE_Construction</th>\n",
       "      <th>INSTAL_AMT_PAYMENT_MIN</th>\n",
       "      <th>BURO_AMT_CREDIT_SUM_DEBT_MEAN</th>\n",
       "    </tr>\n",
       "  </thead>\n",
       "  <tbody>\n",
       "    <tr>\n",
       "      <th>0</th>\n",
       "      <td>0</td>\n",
       "      <td>101405</td>\n",
       "      <td>0.000000</td>\n",
       "      <td>1.025000</td>\n",
       "      <td>1.000000</td>\n",
       "      <td>1.000000</td>\n",
       "      <td>0.000000</td>\n",
       "      <td>0.184057</td>\n",
       "      <td>0.010414</td>\n",
       "      <td>20.000</td>\n",
       "      <td>...</td>\n",
       "      <td>0.027023</td>\n",
       "      <td>22239.0</td>\n",
       "      <td>0.000000</td>\n",
       "      <td>13.664000</td>\n",
       "      <td>0</td>\n",
       "      <td>0</td>\n",
       "      <td>2529.066951</td>\n",
       "      <td>0</td>\n",
       "      <td>2.925000</td>\n",
       "      <td>11400.137000</td>\n",
       "    </tr>\n",
       "    <tr>\n",
       "      <th>1</th>\n",
       "      <td>0</td>\n",
       "      <td>102362</td>\n",
       "      <td>17.223788</td>\n",
       "      <td>0.522181</td>\n",
       "      <td>1.073195</td>\n",
       "      <td>6.209996</td>\n",
       "      <td>76645.791409</td>\n",
       "      <td>1.294235</td>\n",
       "      <td>0.014808</td>\n",
       "      <td>0.000</td>\n",
       "      <td>...</td>\n",
       "      <td>0.000000</td>\n",
       "      <td>27108.0</td>\n",
       "      <td>0.000000</td>\n",
       "      <td>13.592889</td>\n",
       "      <td>0</td>\n",
       "      <td>0</td>\n",
       "      <td>2529.066951</td>\n",
       "      <td>0</td>\n",
       "      <td>5198.165134</td>\n",
       "      <td>0.000000</td>\n",
       "    </tr>\n",
       "    <tr>\n",
       "      <th>2</th>\n",
       "      <td>0</td>\n",
       "      <td>104550</td>\n",
       "      <td>0.000000</td>\n",
       "      <td>0.522181</td>\n",
       "      <td>1.000000</td>\n",
       "      <td>8.000000</td>\n",
       "      <td>76645.791409</td>\n",
       "      <td>1.294235</td>\n",
       "      <td>0.014808</td>\n",
       "      <td>20.000</td>\n",
       "      <td>...</td>\n",
       "      <td>0.027023</td>\n",
       "      <td>23089.5</td>\n",
       "      <td>0.000000</td>\n",
       "      <td>12.000000</td>\n",
       "      <td>0</td>\n",
       "      <td>0</td>\n",
       "      <td>2529.066951</td>\n",
       "      <td>0</td>\n",
       "      <td>11339.235000</td>\n",
       "      <td>155637.000000</td>\n",
       "    </tr>\n",
       "    <tr>\n",
       "      <th>3</th>\n",
       "      <td>0</td>\n",
       "      <td>106159</td>\n",
       "      <td>0.000000</td>\n",
       "      <td>0.522181</td>\n",
       "      <td>1.000000</td>\n",
       "      <td>0.000000</td>\n",
       "      <td>0.000000</td>\n",
       "      <td>1.294235</td>\n",
       "      <td>0.000000</td>\n",
       "      <td>20.000</td>\n",
       "      <td>...</td>\n",
       "      <td>0.027023</td>\n",
       "      <td>30150.0</td>\n",
       "      <td>0.000000</td>\n",
       "      <td>10.290000</td>\n",
       "      <td>0</td>\n",
       "      <td>0</td>\n",
       "      <td>2529.066951</td>\n",
       "      <td>0</td>\n",
       "      <td>655.290000</td>\n",
       "      <td>126623.250000</td>\n",
       "    </tr>\n",
       "    <tr>\n",
       "      <th>4</th>\n",
       "      <td>0</td>\n",
       "      <td>119954</td>\n",
       "      <td>0.000000</td>\n",
       "      <td>0.522181</td>\n",
       "      <td>0.956522</td>\n",
       "      <td>0.000000</td>\n",
       "      <td>76645.791409</td>\n",
       "      <td>1.294235</td>\n",
       "      <td>0.014808</td>\n",
       "      <td>20.000</td>\n",
       "      <td>...</td>\n",
       "      <td>0.003500</td>\n",
       "      <td>42417.0</td>\n",
       "      <td>0.000000</td>\n",
       "      <td>20.580000</td>\n",
       "      <td>0</td>\n",
       "      <td>0</td>\n",
       "      <td>1906.222500</td>\n",
       "      <td>0</td>\n",
       "      <td>6645.915000</td>\n",
       "      <td>388342.500000</td>\n",
       "    </tr>\n",
       "    <tr>\n",
       "      <th>...</th>\n",
       "      <td>...</td>\n",
       "      <td>...</td>\n",
       "      <td>...</td>\n",
       "      <td>...</td>\n",
       "      <td>...</td>\n",
       "      <td>...</td>\n",
       "      <td>...</td>\n",
       "      <td>...</td>\n",
       "      <td>...</td>\n",
       "      <td>...</td>\n",
       "      <td>...</td>\n",
       "      <td>...</td>\n",
       "      <td>...</td>\n",
       "      <td>...</td>\n",
       "      <td>...</td>\n",
       "      <td>...</td>\n",
       "      <td>...</td>\n",
       "      <td>...</td>\n",
       "      <td>...</td>\n",
       "      <td>...</td>\n",
       "      <td>...</td>\n",
       "    </tr>\n",
       "    <tr>\n",
       "      <th>95</th>\n",
       "      <td>0</td>\n",
       "      <td>439031</td>\n",
       "      <td>0.000000</td>\n",
       "      <td>0.522181</td>\n",
       "      <td>1.000000</td>\n",
       "      <td>3.000000</td>\n",
       "      <td>76645.791409</td>\n",
       "      <td>1.294235</td>\n",
       "      <td>0.014808</td>\n",
       "      <td>20.000</td>\n",
       "      <td>...</td>\n",
       "      <td>0.027023</td>\n",
       "      <td>37345.5</td>\n",
       "      <td>0.014232</td>\n",
       "      <td>10.400000</td>\n",
       "      <td>0</td>\n",
       "      <td>0</td>\n",
       "      <td>2529.066951</td>\n",
       "      <td>0</td>\n",
       "      <td>6218.955000</td>\n",
       "      <td>160390.363993</td>\n",
       "    </tr>\n",
       "    <tr>\n",
       "      <th>96</th>\n",
       "      <td>0</td>\n",
       "      <td>443589</td>\n",
       "      <td>0.000000</td>\n",
       "      <td>0.522181</td>\n",
       "      <td>1.000000</td>\n",
       "      <td>0.000000</td>\n",
       "      <td>76645.791409</td>\n",
       "      <td>1.294235</td>\n",
       "      <td>0.014808</td>\n",
       "      <td>20.000</td>\n",
       "      <td>...</td>\n",
       "      <td>0.027023</td>\n",
       "      <td>48631.5</td>\n",
       "      <td>0.000000</td>\n",
       "      <td>10.000000</td>\n",
       "      <td>0</td>\n",
       "      <td>0</td>\n",
       "      <td>0.000000</td>\n",
       "      <td>0</td>\n",
       "      <td>7802.100000</td>\n",
       "      <td>406805.800000</td>\n",
       "    </tr>\n",
       "    <tr>\n",
       "      <th>97</th>\n",
       "      <td>1</td>\n",
       "      <td>446261</td>\n",
       "      <td>0.000000</td>\n",
       "      <td>0.522181</td>\n",
       "      <td>1.000000</td>\n",
       "      <td>46.000000</td>\n",
       "      <td>76645.791409</td>\n",
       "      <td>1.294235</td>\n",
       "      <td>0.014808</td>\n",
       "      <td>20.000</td>\n",
       "      <td>...</td>\n",
       "      <td>0.027023</td>\n",
       "      <td>13707.0</td>\n",
       "      <td>0.000000</td>\n",
       "      <td>32.400000</td>\n",
       "      <td>0</td>\n",
       "      <td>0</td>\n",
       "      <td>2529.066951</td>\n",
       "      <td>0</td>\n",
       "      <td>1457.100000</td>\n",
       "      <td>39607.960000</td>\n",
       "    </tr>\n",
       "    <tr>\n",
       "      <th>98</th>\n",
       "      <td>0</td>\n",
       "      <td>451075</td>\n",
       "      <td>0.000000</td>\n",
       "      <td>0.522181</td>\n",
       "      <td>1.000000</td>\n",
       "      <td>0.000000</td>\n",
       "      <td>76645.791409</td>\n",
       "      <td>1.294235</td>\n",
       "      <td>0.014808</td>\n",
       "      <td>20.000</td>\n",
       "      <td>...</td>\n",
       "      <td>0.027023</td>\n",
       "      <td>42642.0</td>\n",
       "      <td>0.014232</td>\n",
       "      <td>8.664000</td>\n",
       "      <td>0</td>\n",
       "      <td>0</td>\n",
       "      <td>2529.066951</td>\n",
       "      <td>0</td>\n",
       "      <td>705.735000</td>\n",
       "      <td>160390.363993</td>\n",
       "    </tr>\n",
       "    <tr>\n",
       "      <th>99</th>\n",
       "      <td>1</td>\n",
       "      <td>453307</td>\n",
       "      <td>17.223788</td>\n",
       "      <td>0.522181</td>\n",
       "      <td>1.073195</td>\n",
       "      <td>6.209996</td>\n",
       "      <td>76645.791409</td>\n",
       "      <td>1.294235</td>\n",
       "      <td>0.014808</td>\n",
       "      <td>7.035</td>\n",
       "      <td>...</td>\n",
       "      <td>0.027023</td>\n",
       "      <td>10399.5</td>\n",
       "      <td>0.000000</td>\n",
       "      <td>13.592889</td>\n",
       "      <td>0</td>\n",
       "      <td>0</td>\n",
       "      <td>2529.066951</td>\n",
       "      <td>0</td>\n",
       "      <td>5198.165134</td>\n",
       "      <td>0.000000</td>\n",
       "    </tr>\n",
       "  </tbody>\n",
       "</table>\n",
       "<p>100 rows × 163 columns</p>\n",
       "</div>"
      ],
      "text/plain": [
       "    TARGET  SK_ID_CURR  POS_SK_DPD_DEF_SUM  CC_DRAWING_LIMIT_RATIO_MAX  \\\n",
       "0        0      101405            0.000000                    1.025000   \n",
       "1        0      102362           17.223788                    0.522181   \n",
       "2        0      104550            0.000000                    0.522181   \n",
       "3        0      106159            0.000000                    0.522181   \n",
       "4        0      119954            0.000000                    0.522181   \n",
       "..     ...         ...                 ...                         ...   \n",
       "95       0      439031            0.000000                    0.522181   \n",
       "96       0      443589            0.000000                    0.522181   \n",
       "97       1      446261            0.000000                    0.522181   \n",
       "98       0      451075            0.000000                    0.522181   \n",
       "99       1      453307           17.223788                    0.522181   \n",
       "\n",
       "    INSTAL_PAYMENT_RATIO_MEAN  POS_REMAINING_INSTALMENTS  \\\n",
       "0                    1.000000                   1.000000   \n",
       "1                    1.073195                   6.209996   \n",
       "2                    1.000000                   8.000000   \n",
       "3                    1.000000                   0.000000   \n",
       "4                    0.956522                   0.000000   \n",
       "..                        ...                        ...   \n",
       "95                   1.000000                   3.000000   \n",
       "96                   1.000000                   0.000000   \n",
       "97                   1.000000                  46.000000   \n",
       "98                   1.000000                   0.000000   \n",
       "99                   1.073195                   6.209996   \n",
       "\n",
       "    CC_LAST_AMT_BALANCE_MEAN  CC_PAYMENT_DIV_MIN_MIN  CC_LATE_PAYMENT_VAR  \\\n",
       "0                   0.000000                0.184057             0.010414   \n",
       "1               76645.791409                1.294235             0.014808   \n",
       "2               76645.791409                1.294235             0.014808   \n",
       "3                   0.000000                1.294235             0.000000   \n",
       "4               76645.791409                1.294235             0.014808   \n",
       "..                       ...                     ...                  ...   \n",
       "95              76645.791409                1.294235             0.014808   \n",
       "96              76645.791409                1.294235             0.014808   \n",
       "97              76645.791409                1.294235             0.014808   \n",
       "98              76645.791409                1.294235             0.014808   \n",
       "99              76645.791409                1.294235             0.014808   \n",
       "\n",
       "    NEW_DOC_KURT  ...  NONLIVINGAREA_MODE  Revenus annuels  \\\n",
       "0         20.000  ...            0.027023          22239.0   \n",
       "1          0.000  ...            0.000000          27108.0   \n",
       "2         20.000  ...            0.027023          23089.5   \n",
       "3         20.000  ...            0.027023          30150.0   \n",
       "4         20.000  ...            0.003500          42417.0   \n",
       "..           ...  ...                 ...              ...   \n",
       "95        20.000  ...            0.027023          37345.5   \n",
       "96        20.000  ...            0.027023          48631.5   \n",
       "97        20.000  ...            0.027023          13707.0   \n",
       "98        20.000  ...            0.027023          42642.0   \n",
       "99         7.035  ...            0.027023          10399.5   \n",
       "\n",
       "    BURO_CREDIT_TYPE_Mortgage_MEAN  APPROVED_CNT_PAYMENT_MEAN  \\\n",
       "0                         0.000000                  13.664000   \n",
       "1                         0.000000                  13.592889   \n",
       "2                         0.000000                  12.000000   \n",
       "3                         0.000000                  10.290000   \n",
       "4                         0.000000                  20.580000   \n",
       "..                             ...                        ...   \n",
       "95                        0.014232                  10.400000   \n",
       "96                        0.000000                  10.000000   \n",
       "97                        0.000000                  32.400000   \n",
       "98                        0.014232                   8.664000   \n",
       "99                        0.000000                  13.592889   \n",
       "\n",
       "    FLAG_DOCUMENT_7  FLAG_DOCUMENT_18  ACTIVE_AMT_CREDIT_MAX_OVERDUE_MEAN  \\\n",
       "0                 0                 0                         2529.066951   \n",
       "1                 0                 0                         2529.066951   \n",
       "2                 0                 0                         2529.066951   \n",
       "3                 0                 0                         2529.066951   \n",
       "4                 0                 0                         1906.222500   \n",
       "..              ...               ...                                 ...   \n",
       "95                0                 0                         2529.066951   \n",
       "96                0                 0                            0.000000   \n",
       "97                0                 0                         2529.066951   \n",
       "98                0                 0                         2529.066951   \n",
       "99                0                 0                         2529.066951   \n",
       "\n",
       "    ORGANIZATION_TYPE_Construction  INSTAL_AMT_PAYMENT_MIN  \\\n",
       "0                                0                2.925000   \n",
       "1                                0             5198.165134   \n",
       "2                                0            11339.235000   \n",
       "3                                0              655.290000   \n",
       "4                                0             6645.915000   \n",
       "..                             ...                     ...   \n",
       "95                               0             6218.955000   \n",
       "96                               0             7802.100000   \n",
       "97                               0             1457.100000   \n",
       "98                               0              705.735000   \n",
       "99                               0             5198.165134   \n",
       "\n",
       "    BURO_AMT_CREDIT_SUM_DEBT_MEAN  \n",
       "0                    11400.137000  \n",
       "1                        0.000000  \n",
       "2                   155637.000000  \n",
       "3                   126623.250000  \n",
       "4                   388342.500000  \n",
       "..                            ...  \n",
       "95                  160390.363993  \n",
       "96                  406805.800000  \n",
       "97                   39607.960000  \n",
       "98                  160390.363993  \n",
       "99                       0.000000  \n",
       "\n",
       "[100 rows x 163 columns]"
      ]
     },
     "execution_count": 20,
     "metadata": {},
     "output_type": "execute_result"
    }
   ],
   "source": [
    "df"
   ]
  },
  {
   "cell_type": "markdown",
   "id": "ced3a899",
   "metadata": {},
   "source": [
    "# "
   ]
  },
  {
   "cell_type": "markdown",
   "id": "c440324d",
   "metadata": {},
   "source": [
    "### III. Conclusion étape KNN"
   ]
  },
  {
   "cell_type": "markdown",
   "id": "1493e5df",
   "metadata": {},
   "source": [
    "En conclusion, l'utilisation du modèle de KNN pour notre projet Streamlit a été essentielle pour atteindre notre objectif, qui était de trouver le client le plus proche de celui sélectionné. Cependant, il est important de noter que le modèle peut présenter des résultats mitigés en raison d'un problème de déséquilibre des classes. Ce déséquilibre peut affecter la précision globale du modèle.\n",
    "\n",
    "Pour améliorer les performances du modèle, il est recommandé d'explorer des techniques d'optimisation. En effectuant une optimisation appropriée, nous pouvons mieux comprendre les caractéristiques des données et améliorer la précision du modèle. Cela nous permettra d'obtenir des résultats plus fiables et précis lors de la recherche du client le plus proche.\n",
    "\n",
    "En tant que complément pour le dashboard, cette partie sur l'utilisation du modèle de KNN et son optimisation fournira des informations supplémentaires importantes. Les utilisateurs pourront ainsi avoir une vision plus complète et détaillée de la performance du modèle et de ses limitations. Cela les aidera à prendre des décisions éclairées lors de l'utilisation de l'application Streamlit."
   ]
  }
 ],
 "metadata": {
  "kernelspec": {
   "display_name": "Python 3 (ipykernel)",
   "language": "python",
   "name": "python3"
  },
  "language_info": {
   "codemirror_mode": {
    "name": "ipython",
    "version": 3
   },
   "file_extension": ".py",
   "mimetype": "text/x-python",
   "name": "python",
   "nbconvert_exporter": "python",
   "pygments_lexer": "ipython3",
   "version": "3.9.16"
  }
 },
 "nbformat": 4,
 "nbformat_minor": 5
}
